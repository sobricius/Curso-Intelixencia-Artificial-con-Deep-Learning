{
 "cells": [
  {
   "cell_type": "markdown",
   "metadata": {
    "id": "0owPA-B1lPke"
   },
   "source": [
    "![picture](https://ictslab.com/wp-content/uploads/2019/03/d1326ca6cca8038cd115a061b4e2b3bc-840x430.png)\n",
    "# PYTHON BÁSICO"
   ]
  },
  {
   "cell_type": "markdown",
   "metadata": {
    "id": "FJS0SWPHPDxt"
   },
   "source": [
    "##Variables, tipos de datos y aritmética"
   ]
  },
  {
   "cell_type": "code",
   "execution_count": 22,
   "metadata": {
    "colab": {
     "base_uri": "https://localhost:8080/"
    },
    "executionInfo": {
     "elapsed": 225,
     "status": "ok",
     "timestamp": 1645031798909,
     "user": {
      "displayName": "Amador Rodríguez Diéguez",
      "photoUrl": "https://lh3.googleusercontent.com/a/default-user=s64",
      "userId": "06500271424076672652"
     },
     "user_tz": -60
    },
    "id": "uqR1oXIKlKKG",
    "outputId": "3e733f88-8172-4171-c895-1b945883d8e4"
   },
   "outputs": [
    {
     "name": "stdout",
     "output_type": "stream",
     "text": [
      "50\n"
     ]
    },
    {
     "data": {
      "text/plain": [
       "int"
      ]
     },
     "execution_count": 22,
     "metadata": {},
     "output_type": "execute_result"
    }
   ],
   "source": [
    "valor = 7\n",
    "resultado = valor ** 2\n",
    "resultado += 1\n",
    "print(resultado)\n",
    "type(valor)\n"
   ]
  },
  {
   "cell_type": "markdown",
   "metadata": {
    "id": "ufuTFOYNPOWb"
   },
   "source": [
    "## Cadenas de texto (*strings*)"
   ]
  },
  {
   "cell_type": "code",
   "execution_count": 23,
   "metadata": {
    "colab": {
     "base_uri": "https://localhost:8080/"
    },
    "executionInfo": {
     "elapsed": 11,
     "status": "ok",
     "timestamp": 1645031799345,
     "user": {
      "displayName": "Amador Rodríguez Diéguez",
      "photoUrl": "https://lh3.googleusercontent.com/a/default-user=s64",
      "userId": "06500271424076672652"
     },
     "user_tz": -60
    },
    "id": "CtAYIymNlpgj",
    "outputId": "41b1f849-9c0c-48c0-c2e3-a5814f1fefc3"
   },
   "outputs": [
    {
     "name": "stdout",
     "output_type": "stream",
     "text": [
      "8\n",
      "5\n",
      "Curso de Deep Learning\n",
      "CURSO DE DEEP LEARNING. EDICIÓN 2.\n"
     ]
    }
   ],
   "source": [
    "cadena1 = \"Curso   \" \n",
    "print(len(cadena1))\n",
    "cadena1 = cadena1.strip()\n",
    "print(len(cadena1))\n",
    "cadena2 = \"DEEP LEARNING\"\n",
    "cadena2 = cadena2.lower()\n",
    "cadena2 = cadena2.replace('d','D').replace(\"l\",\"L\")\n",
    "texto = cadena1 + \" de \" + cadena2\n",
    "print(texto)\n",
    "texto += \". Edición \" + str(2) + '.'\n",
    "print (texto.upper())\n"
   ]
  },
  {
   "cell_type": "markdown",
   "metadata": {
    "id": "d-Yfde8PPUG0"
   },
   "source": [
    "## Conversión de strings a tipos numéricos"
   ]
  },
  {
   "cell_type": "code",
   "execution_count": 24,
   "metadata": {
    "colab": {
     "base_uri": "https://localhost:8080/"
    },
    "executionInfo": {
     "elapsed": 11,
     "status": "ok",
     "timestamp": 1645031799347,
     "user": {
      "displayName": "Amador Rodríguez Diéguez",
      "photoUrl": "https://lh3.googleusercontent.com/a/default-user=s64",
      "userId": "06500271424076672652"
     },
     "user_tz": -60
    },
    "id": "rBkaN0tunBpk",
    "outputId": "8968d8e8-b18f-4ba5-b164-adfc00b26c09"
   },
   "outputs": [
    {
     "name": "stdout",
     "output_type": "stream",
     "text": [
      "52.2\n"
     ]
    }
   ],
   "source": [
    "nuevo = resultado+float(\"3.2\")-int('1')\n",
    "print(nuevo)"
   ]
  },
  {
   "cell_type": "markdown",
   "metadata": {
    "id": "cI9c7xGDPZrA"
   },
   "source": [
    "## Listas"
   ]
  },
  {
   "cell_type": "markdown",
   "metadata": {
    "id": "pSI2_tQLPcnH"
   },
   "source": [
    "#### Básicas"
   ]
  },
  {
   "cell_type": "code",
   "execution_count": 25,
   "metadata": {
    "colab": {
     "base_uri": "https://localhost:8080/"
    },
    "executionInfo": {
     "elapsed": 263,
     "status": "ok",
     "timestamp": 1645031799601,
     "user": {
      "displayName": "Amador Rodríguez Diéguez",
      "photoUrl": "https://lh3.googleusercontent.com/a/default-user=s64",
      "userId": "06500271424076672652"
     },
     "user_tz": -60
    },
    "id": "DfGcxn2Wo3xU",
    "outputId": "2ada282b-76de-405c-dc25-184f774a46ba"
   },
   "outputs": [
    {
     "name": "stdout",
     "output_type": "stream",
     "text": [
      "[6, 1, 3, 5, 7]\n",
      "Primer elemento: 6\n",
      "Segundo elemento: 3\n",
      "Último elemento: 7\n",
      "Número de elementos: 5\n",
      "Suma de los elementos: 22\n",
      "[1, 3, 5, 6, 7]\n",
      "Máximo: 7\n",
      "3\n",
      "[1, 5, 6, 7]\n",
      "[1, 5, 6, 7, 5]\n",
      "[1, 6, 7, 5]\n"
     ]
    }
   ],
   "source": [
    "lista = [6, 1, 3, 5]\n",
    "lista.append(7)\n",
    "print(lista)\n",
    "print('Primer elemento:', lista[0])\n",
    "print('Segundo elemento:', lista[2])\n",
    "print('Último elemento:', lista[-1])\n",
    "print('Número de elementos:', len(lista))\n",
    "suma = sum(lista)\n",
    "print('Suma de los elementos:',suma)\n",
    "lista.sort()\n",
    "print(lista)\n",
    "print('Máximo:',max(lista))\n",
    "print (lista.pop(1)) # elimina y devuelve el 2º elemento:\n",
    "print(lista)\n",
    "lista.append(5)\n",
    "print(lista)\n",
    "lista.remove(5) # elimina el primer 5 (si hay alguno)\n",
    "print(lista)\n"
   ]
  },
  {
   "cell_type": "markdown",
   "metadata": {
    "id": "Vm-w2b_zPnvA"
   },
   "source": [
    "#### Conversión entre texto (strings) y listas"
   ]
  },
  {
   "cell_type": "code",
   "execution_count": 26,
   "metadata": {
    "colab": {
     "base_uri": "https://localhost:8080/"
    },
    "executionInfo": {
     "elapsed": 18,
     "status": "ok",
     "timestamp": 1645031799602,
     "user": {
      "displayName": "Amador Rodríguez Diéguez",
      "photoUrl": "https://lh3.googleusercontent.com/a/default-user=s64",
      "userId": "06500271424076672652"
     },
     "user_tz": -60
    },
    "id": "XWgHtv2opRvi",
    "outputId": "a9c9706b-926b-4784-fb9b-8732603e299c"
   },
   "outputs": [
    {
     "name": "stdout",
     "output_type": "stream",
     "text": [
      "['Curso', 'de', 'Deep', 'Learning.', 'Edición', '2.']\n",
      "Curso de Deep Learning. Edición 2.\n"
     ]
    }
   ],
   "source": [
    "listaTexto = texto.split()\n",
    "print(listaTexto)\n",
    "texto2 = ' '.join(listaTexto)\n",
    "print(texto2)"
   ]
  },
  {
   "cell_type": "markdown",
   "metadata": {
    "id": "-ZJvxPDIP1FI"
   },
   "source": [
    "## Listas con bucles *for*, decisiones con *if* y operador *in*"
   ]
  },
  {
   "cell_type": "code",
   "execution_count": 27,
   "metadata": {
    "colab": {
     "base_uri": "https://localhost:8080/"
    },
    "executionInfo": {
     "elapsed": 17,
     "status": "ok",
     "timestamp": 1645031799603,
     "user": {
      "displayName": "Amador Rodríguez Diéguez",
      "photoUrl": "https://lh3.googleusercontent.com/a/default-user=s64",
      "userId": "06500271424076672652"
     },
     "user_tz": -60
    },
    "id": "Nck7K4oYrjQV",
    "outputId": "7664d703-8c6a-4d9e-99f4-ec52ee3935ea"
   },
   "outputs": [
    {
     "name": "stdout",
     "output_type": "stream",
     "text": [
      "valor: 6\n",
      "valor: 5\n",
      "----------------------------------------\n",
      "El valor 5 está en la lista\n"
     ]
    }
   ],
   "source": [
    "for elemento in lista:\n",
    "  if (elemento>=4 and elemento<7): \n",
    "    print('valor:',elemento)\n",
    "print('-'*40)\n",
    "if (5 in lista):\n",
    "  print(\"El valor 5 está en la lista\")\n",
    "else:\n",
    "  print(\"El valor 5 no está en la lista\")"
   ]
  },
  {
   "cell_type": "markdown",
   "metadata": {
    "id": "G4ZZKScQQQa3"
   },
   "source": [
    "## Rangos"
   ]
  },
  {
   "cell_type": "code",
   "execution_count": 28,
   "metadata": {
    "colab": {
     "base_uri": "https://localhost:8080/"
    },
    "executionInfo": {
     "elapsed": 15,
     "status": "ok",
     "timestamp": 1645031799603,
     "user": {
      "displayName": "Amador Rodríguez Diéguez",
      "photoUrl": "https://lh3.googleusercontent.com/a/default-user=s64",
      "userId": "06500271424076672652"
     },
     "user_tz": -60
    },
    "id": "Bq1zDUxpQRI6",
    "outputId": "17247e47-5e17-433e-c6fb-01ec9a057355"
   },
   "outputs": [
    {
     "name": "stdout",
     "output_type": "stream",
     "text": [
      "----------------------------------------\n",
      "1\n",
      "2\n",
      "3\n",
      "4\n",
      "----------------------------------------\n",
      "[1, 3]\n"
     ]
    }
   ],
   "source": [
    "print('-'*40)\n",
    "for elemento in range(1,5):\n",
    "  print (elemento)\n",
    "print('-'*40)\n",
    "secuencia = list(range(1,5,2))\n",
    "print(secuencia)"
   ]
  },
  {
   "cell_type": "markdown",
   "metadata": {
    "id": "MhUHBoyQQefw"
   },
   "source": [
    "## Anidamientos de *if*"
   ]
  },
  {
   "cell_type": "code",
   "execution_count": 29,
   "metadata": {
    "colab": {
     "base_uri": "https://localhost:8080/"
    },
    "executionInfo": {
     "elapsed": 12,
     "status": "ok",
     "timestamp": 1645031799603,
     "user": {
      "displayName": "Amador Rodríguez Diéguez",
      "photoUrl": "https://lh3.googleusercontent.com/a/default-user=s64",
      "userId": "06500271424076672652"
     },
     "user_tz": -60
    },
    "id": "_wPmSvuwvNb_",
    "outputId": "40c57fc8-d1c0-4c85-fbc8-13d2a21ec5e5"
   },
   "outputs": [
    {
     "name": "stdout",
     "output_type": "stream",
     "text": [
      "a es igual a b: 5 == 5\n"
     ]
    }
   ],
   "source": [
    "a = 5\n",
    "b = 5\n",
    "\n",
    "if (a<b):\n",
    "  print(\"a es menor que b: {}<{}\".format(a,b))\n",
    "elif (a==b):\n",
    "  print(\"a es igual a b:\",a,\"==\",b)\n",
    "else:\n",
    "  mostrar = \"a es mayor que b: {1}>{0}\".format(b,a)\n",
    "  print(mostrar)\n",
    "\n"
   ]
  },
  {
   "cell_type": "markdown",
   "metadata": {
    "id": "_-1RffUdQ0vu"
   },
   "source": [
    "## Bucle *while*"
   ]
  },
  {
   "cell_type": "code",
   "execution_count": 30,
   "metadata": {
    "colab": {
     "base_uri": "https://localhost:8080/"
    },
    "executionInfo": {
     "elapsed": 1202,
     "status": "ok",
     "timestamp": 1645031801012,
     "user": {
      "displayName": "Amador Rodríguez Diéguez",
      "photoUrl": "https://lh3.googleusercontent.com/a/default-user=s64",
      "userId": "06500271424076672652"
     },
     "user_tz": -60
    },
    "id": "lsGmr5H6wtnj",
    "outputId": "bf57f054-08a1-4010-f55e-bb5e8100b08e"
   },
   "outputs": [
    {
     "name": "stdout",
     "output_type": "stream",
     "text": [
      "3.1415931535894743\n"
     ]
    }
   ],
   "source": [
    "# pi =  = 4 – 4/3 + 4/5 – 4/7 + 4/9 – …\n",
    "den = 1\n",
    "pi = 4\n",
    "signo = 1\n",
    "limite = 1e-6\n",
    "while (4/den>limite): # pi/den es el último término añadido \n",
    "  signo *= -1\n",
    "  den += 2\n",
    "  pi += signo * 4 /den \n",
    "print(pi)"
   ]
  },
  {
   "cell_type": "markdown",
   "metadata": {
    "id": "mlXEusfPQiqA"
   },
   "source": [
    "## Diccionarios"
   ]
  },
  {
   "cell_type": "code",
   "execution_count": 31,
   "metadata": {
    "colab": {
     "base_uri": "https://localhost:8080/"
    },
    "executionInfo": {
     "elapsed": 10,
     "status": "ok",
     "timestamp": 1645031801012,
     "user": {
      "displayName": "Amador Rodríguez Diéguez",
      "photoUrl": "https://lh3.googleusercontent.com/a/default-user=s64",
      "userId": "06500271424076672652"
     },
     "user_tz": -60
    },
    "id": "9lYMVF7fqiTy",
    "outputId": "598cb42c-d4ef-4f8c-f54e-daedfd36642a"
   },
   "outputs": [
    {
     "name": "stdout",
     "output_type": "stream",
     "text": [
      "nombre  -> Laura\n",
      "edad  -> 23\n",
      "nota  -> 9.7\n",
      "tel  -> 666111666\n",
      "Lista de claves:  ['nombre', 'edad', 'nota', 'tel']\n",
      "Lista de valores: ['Laura', 23, 9.7, 666111666]\n"
     ]
    }
   ],
   "source": [
    "diccio = {'nombre':'Laura', 'edad':23, 'nota':9.7}\n",
    "diccio['tel']= 666111666\n",
    "for clave in diccio:\n",
    "  print(clave,' ->',diccio[clave])\n",
    "\n",
    "print('Lista de claves: ', list(diccio.keys()))\n",
    "print('Lista de valores:', list(diccio.values()))"
   ]
  },
  {
   "cell_type": "markdown",
   "metadata": {
    "id": "f6gU0TZUQlvO"
   },
   "source": [
    "## Funciones"
   ]
  },
  {
   "cell_type": "markdown",
   "metadata": {
    "id": "o6GuU6uiQn_G"
   },
   "source": [
    "#### Definición"
   ]
  },
  {
   "cell_type": "code",
   "execution_count": 32,
   "metadata": {
    "executionInfo": {
     "elapsed": 6,
     "status": "ok",
     "timestamp": 1645031801013,
     "user": {
      "displayName": "Amador Rodríguez Diéguez",
      "photoUrl": "https://lh3.googleusercontent.com/a/default-user=s64",
      "userId": "06500271424076672652"
     },
     "user_tz": -60
    },
    "id": "F0shB6iWwUR4"
   },
   "outputs": [],
   "source": [
    "def minimo(a,b):\n",
    "  if (a<b):\n",
    "    resultado = a\n",
    "  else:\n",
    "    resultado = b\n",
    "  return resultado"
   ]
  },
  {
   "cell_type": "markdown",
   "metadata": {
    "id": "uMAoY69dQqK2"
   },
   "source": [
    "#### Invocación"
   ]
  },
  {
   "cell_type": "code",
   "execution_count": 33,
   "metadata": {
    "colab": {
     "base_uri": "https://localhost:8080/"
    },
    "executionInfo": {
     "elapsed": 364,
     "status": "ok",
     "timestamp": 1645031801373,
     "user": {
      "displayName": "Amador Rodríguez Diéguez",
      "photoUrl": "https://lh3.googleusercontent.com/a/default-user=s64",
      "userId": "06500271424076672652"
     },
     "user_tz": -60
    },
    "id": "AA-SdAK5s-i_",
    "outputId": "4c8972c1-d661-4ad0-a6b3-2f7fd7670814"
   },
   "outputs": [
    {
     "name": "stdout",
     "output_type": "stream",
     "text": [
      "3\n"
     ]
    }
   ],
   "source": [
    "menor = minimo(3,6)\n",
    "print(menor)"
   ]
  },
  {
   "cell_type": "markdown",
   "metadata": {
    "id": "NEZIa1UeQ7Hp"
   },
   "source": [
    "## Matrices 2D con listas"
   ]
  },
  {
   "cell_type": "code",
   "execution_count": 34,
   "metadata": {
    "colab": {
     "base_uri": "https://localhost:8080/"
    },
    "executionInfo": {
     "elapsed": 31,
     "status": "ok",
     "timestamp": 1645031801374,
     "user": {
      "displayName": "Amador Rodríguez Diéguez",
      "photoUrl": "https://lh3.googleusercontent.com/a/default-user=s64",
      "userId": "06500271424076672652"
     },
     "user_tz": -60
    },
    "id": "aE--yNwA9TN2",
    "outputId": "33d25b9d-804b-48e9-b7ba-07d04319aa3e"
   },
   "outputs": [
    {
     "name": "stdout",
     "output_type": "stream",
     "text": [
      "<class 'list'> \n",
      " [[1, 2, 3], [4, 5, 6], [7, 8, 9]]\n",
      "----------------------------------------\n",
      "8\n",
      "----------------------------------------\n",
      "[[9, 2, 3], [4, 5, 6]]\n",
      "[[9, 2, 3], [4, 5, 6], [7, 8, 9]]\n"
     ]
    }
   ],
   "source": [
    "matriz = [[1,2,3],[4,5,6],[7,8,9]]\n",
    "print(type(matriz),\"\\n\",matriz)\n",
    "print('-'*40)\n",
    "print(matriz[2][1])\n",
    "print('-'*40)\n",
    "m2 = matriz[:][0:2]\n",
    "matriz[0][0]=9\n",
    "print(m2) # slicing es una vista -> modificaciones repercuten en el original\n",
    "print(matriz)"
   ]
  },
  {
   "cell_type": "markdown",
   "metadata": {
    "id": "K1pMmZgYQ-Fu"
   },
   "source": [
    "## Matrices 3D con listas"
   ]
  },
  {
   "cell_type": "code",
   "execution_count": 35,
   "metadata": {
    "colab": {
     "base_uri": "https://localhost:8080/"
    },
    "executionInfo": {
     "elapsed": 29,
     "status": "ok",
     "timestamp": 1645031801375,
     "user": {
      "displayName": "Amador Rodríguez Diéguez",
      "photoUrl": "https://lh3.googleusercontent.com/a/default-user=s64",
      "userId": "06500271424076672652"
     },
     "user_tz": -60
    },
    "id": "EReGxQGK_Xg6",
    "outputId": "eecb6d43-a287-46dd-9e90-185dc213e8c1"
   },
   "outputs": [
    {
     "name": "stdout",
     "output_type": "stream",
     "text": [
      "1; 2; 3; 4; 5; 6; 7; 8; 9; 0; 5; 6; \n",
      "----------------------------------------\n",
      "[0,0,0]:6; [0,0,1]:6; [0,1,0]:6; [0,1,1]:6; [0,2,0]:6; [0,2,1]:6; [1,0,0]:6; [1,0,1]:6; [1,1,0]:6; [1,1,1]:6; [1,2,0]:6; [1,2,1]:6; \n"
     ]
    }
   ],
   "source": [
    "lista3D = [[[1,2],[3,4],[5,6]],[[7,8],[9,0],[5,6]]]\n",
    "res=''\n",
    "for fila in lista3D:\n",
    "  for columna in fila:\n",
    "    for elemento in columna:\n",
    "      res+=str(elemento)+'; '\n",
    "print(res)\n",
    "print('-'*40)\n",
    "res=''\n",
    "for i in range(len(lista3D)):\n",
    "  for j in range(len(lista3D[i])):\n",
    "    for k in range(len(lista3D[i][j])):\n",
    "      res+=\"[\"+str(i)+\",\"+str(j)+\",\"+str(k)+\"]:\"+str(elemento)+'; '\n",
    "print(res)"
   ]
  },
  {
   "cell_type": "markdown",
   "metadata": {
    "id": "gVZkDXM2RD-m"
   },
   "source": [
    "## *List comprehension*, paquete *math* y *for* con enumeración"
   ]
  },
  {
   "cell_type": "code",
   "execution_count": 36,
   "metadata": {
    "colab": {
     "base_uri": "https://localhost:8080/"
    },
    "executionInfo": {
     "elapsed": 28,
     "status": "ok",
     "timestamp": 1645031801376,
     "user": {
      "displayName": "Amador Rodríguez Diéguez",
      "photoUrl": "https://lh3.googleusercontent.com/a/default-user=s64",
      "userId": "06500271424076672652"
     },
     "user_tz": -60
    },
    "id": "uJZuRkoDyJvY",
    "outputId": "eeb5dcaf-e295-47fb-f518-ff82c8c94c6c"
   },
   "outputs": [
    {
     "name": "stdout",
     "output_type": "stream",
     "text": [
      "[1, 6, 7, 5]\n",
      "[1.0, 2.449489742783178, 2.6457513110645907, 2.23606797749979]\n",
      "--------------------------------------------------------------\n",
      "0 -> 1\n",
      "1 -> 6\n",
      "2 -> 7\n",
      "3 -> 5\n"
     ]
    }
   ],
   "source": [
    "import math\n",
    "listaRaices = [math.sqrt(x) for x in lista];\n",
    "print(lista)\n",
    "print(listaRaices)\n",
    "print('-'*62)\n",
    "for pos, valor in enumerate(lista):\n",
    "  print(pos,\"->\",valor)\n"
   ]
  },
  {
   "cell_type": "markdown",
   "metadata": {
    "id": "Cv7Vmsrbi49g"
   },
   "source": [
    "##If abreviado (*shorthand if*)"
   ]
  },
  {
   "cell_type": "code",
   "execution_count": 44,
   "metadata": {
    "colab": {
     "base_uri": "https://localhost:8080/"
    },
    "executionInfo": {
     "elapsed": 190,
     "status": "ok",
     "timestamp": 1645032079009,
     "user": {
      "displayName": "Amador Rodríguez Diéguez",
      "photoUrl": "https://lh3.googleusercontent.com/a/default-user=s64",
      "userId": "06500271424076672652"
     },
     "user_tz": -60
    },
    "id": "rGuu2ew7i5N5",
    "outputId": "73558799-0f80-496e-ded8-8ffb3c152447"
   },
   "outputs": [
    {
     "name": "stdout",
     "output_type": "stream",
     "text": [
      "1\n"
     ]
    }
   ],
   "source": [
    "a = 9\n",
    "b = 8\n",
    "restaAbs = a-b if a>b else b-a\n",
    "print(restaAbs)"
   ]
  },
  {
   "cell_type": "code",
   "execution_count": 46,
   "metadata": {
    "colab": {
     "base_uri": "https://localhost:8080/"
    },
    "executionInfo": {
     "elapsed": 5,
     "status": "ok",
     "timestamp": 1645032198594,
     "user": {
      "displayName": "Amador Rodríguez Diéguez",
      "photoUrl": "https://lh3.googleusercontent.com/a/default-user=s64",
      "userId": "06500271424076672652"
     },
     "user_tz": -60
    },
    "id": "IAKuE4e2jZok",
    "outputId": "5de2bdaa-d115-43d7-de79-3e32de99b854"
   },
   "outputs": [
    {
     "data": {
      "text/plain": [
       "[1, 0, 1, 1, 0, 0]"
      ]
     },
     "execution_count": 46,
     "metadata": {},
     "output_type": "execute_result"
    }
   ],
   "source": [
    "lista = [8, -9 , 2, 7, -1, -4]\n",
    "listaBinaria = [1 if x>0 else 0  for x in lista]\n",
    "listaBinaria"
   ]
  },
  {
   "cell_type": "markdown",
   "metadata": {
    "id": "L26P07J1RZUt"
   },
   "source": [
    "## Generadores de valores aleatorios"
   ]
  },
  {
   "cell_type": "code",
   "execution_count": 37,
   "metadata": {
    "colab": {
     "base_uri": "https://localhost:8080/"
    },
    "executionInfo": {
     "elapsed": 27,
     "status": "ok",
     "timestamp": 1645031801376,
     "user": {
      "displayName": "Amador Rodríguez Diéguez",
      "photoUrl": "https://lh3.googleusercontent.com/a/default-user=s64",
      "userId": "06500271424076672652"
     },
     "user_tz": -60
    },
    "id": "NJ-5Kljyze2i",
    "outputId": "e3d3869b-c207-40f1-e625-8e3b4665d04e"
   },
   "outputs": [
    {
     "name": "stdout",
     "output_type": "stream",
     "text": [
      "Tirada aleatoria de un dado: 6\n",
      "Aleatorio en [0,1): 0.49618197153974675\n",
      "Aletorio gaussiano 0,1: -1.6297276431769225\n",
      "----------------------------------------\n",
      "[1, 6, 7, 5]\n",
      "[7, 5, 6, 1]\n"
     ]
    }
   ],
   "source": [
    "from random import randint, random, gauss, shuffle # alternativa: from random import *\n",
    "print(\"Tirada aleatoria de un dado:\", randint(1,6))\n",
    "print(\"Aleatorio en [0,1):\",random())\n",
    "print(\"Aletorio gaussiano 0,1:\", gauss(0,1))\n",
    "print('-'*40)\n",
    "print(lista)\n",
    "shuffle(lista)\n",
    "print(lista)"
   ]
  },
  {
   "cell_type": "markdown",
   "metadata": {
    "id": "bD6aks4VGVsJ"
   },
   "source": [
    "## Datetime"
   ]
  },
  {
   "cell_type": "code",
   "execution_count": 47,
   "metadata": {
    "colab": {
     "base_uri": "https://localhost:8080/"
    },
    "executionInfo": {
     "elapsed": 187,
     "status": "ok",
     "timestamp": 1645032230564,
     "user": {
      "displayName": "Amador Rodríguez Diéguez",
      "photoUrl": "https://lh3.googleusercontent.com/a/default-user=s64",
      "userId": "06500271424076672652"
     },
     "user_tz": -60
    },
    "id": "BHg812fdGd6H",
    "outputId": "3fef2f88-547b-49f2-df56-4a22ed9de485"
   },
   "outputs": [
    {
     "name": "stdout",
     "output_type": "stream",
     "text": [
      "Estamos en el año: 2022\n",
      "Hora:    17\n",
      "Minutos: 23\n",
      "\n",
      "18/2/2022\n",
      "18/02/2022 17:12:30\n"
     ]
    }
   ],
   "source": [
    "import datetime\n",
    "\n",
    "ahora = datetime.datetime.now()\n",
    "print(\"Estamos en el año:\", ahora.year)\n",
    "print(\"Hora:   \", ahora.hour)\n",
    "print(\"Minutos:\", ahora.minute)\n",
    "\n",
    "instante = datetime.datetime(2022, 2, 18, 17, 12, 30)\n",
    "print('\\n'+str(instante.day)+'/'+str(instante.month)+'/'+str(instante.year))\n",
    "\n",
    "# otros campos: dayname, day, month, dayofweek, month_name\n",
    "\n",
    "print(instante.strftime(\"%d/%m/%Y %T\")) "
   ]
  },
  {
   "cell_type": "markdown",
   "metadata": {
    "id": "vov6VEmuRdrs"
   },
   "source": [
    "## Excepciones"
   ]
  },
  {
   "cell_type": "code",
   "execution_count": 39,
   "metadata": {
    "colab": {
     "base_uri": "https://localhost:8080/"
    },
    "executionInfo": {
     "elapsed": 22,
     "status": "ok",
     "timestamp": 1645031801377,
     "user": {
      "displayName": "Amador Rodríguez Diéguez",
      "photoUrl": "https://lh3.googleusercontent.com/a/default-user=s64",
      "userId": "06500271424076672652"
     },
     "user_tz": -60
    },
    "id": "JZhrPFhZBqlj",
    "outputId": "9f36a537-21ed-4461-8c7c-24512de7595f"
   },
   "outputs": [
    {
     "name": "stdout",
     "output_type": "stream",
     "text": [
      "Error de división por cero\n",
      "<class 'ZeroDivisionError'>\n",
      "Fin.\n"
     ]
    }
   ],
   "source": [
    "x = 7\n",
    "y = 0\n",
    "res = ''\n",
    "try:  # instrucciones vigiladas\n",
    "  res = x/y\n",
    "except ZeroDivisionError:  # si hay error\n",
    "  print(\"Error de división por cero\")\n",
    "  print(ZeroDivisionError)\n",
    "else:  # si no hay error\n",
    "  print(\"resultado\",res)\n",
    "finally:  # siempre se pasa por este bloque (incluso si hay return en alguno de los anteriores)\n",
    "  print(\"Fin.\")"
   ]
  },
  {
   "cell_type": "markdown",
   "metadata": {
    "id": "_8RFLR-DGuc8"
   },
   "source": [
    "## Lambdas"
   ]
  },
  {
   "cell_type": "code",
   "execution_count": 40,
   "metadata": {
    "colab": {
     "base_uri": "https://localhost:8080/"
    },
    "executionInfo": {
     "elapsed": 18,
     "status": "ok",
     "timestamp": 1645031801377,
     "user": {
      "displayName": "Amador Rodríguez Diéguez",
      "photoUrl": "https://lh3.googleusercontent.com/a/default-user=s64",
      "userId": "06500271424076672652"
     },
     "user_tz": -60
    },
    "id": "-pGwYqBrGxyR",
    "outputId": "078d54bd-ffe3-4fa7-c331-3cdb21388e92"
   },
   "outputs": [
    {
     "name": "stdout",
     "output_type": "stream",
     "text": [
      "El doble de 3 es 6\n",
      "2 elevado a 3 es 8\n",
      "10 x 7 = 70\n",
      "-3\n"
     ]
    }
   ],
   "source": [
    "# lambda: función anónima con una única sentencia\n",
    "\n",
    "# lambda básica\n",
    "f1 = lambda x: 2*x\n",
    "print (\"El doble de 3 es\",f1(3))\n",
    "\n",
    "# lambda con más de un argumento:\n",
    "f2 = lambda x,y: x**y\n",
    "print(2,\"elevado a\",3,\"es\",f2(2,3)) \n",
    "\n",
    "# lambda anónima\n",
    "print (\"10 x 7 =\",(lambda x: 10*x)(7))\n",
    "\n",
    "# lambda como argumento\n",
    "def diferencia(func1,func2,x):\n",
    "    return func1(x)-func2(x)\n",
    "\n",
    "print (diferencia(f1,(lambda x: x**2), 3))"
   ]
  },
  {
   "cell_type": "markdown",
   "metadata": {
    "id": "vGAyU9nWHvQ8"
   },
   "source": [
    "## Filtros"
   ]
  },
  {
   "cell_type": "code",
   "execution_count": 41,
   "metadata": {
    "colab": {
     "base_uri": "https://localhost:8080/"
    },
    "executionInfo": {
     "elapsed": 15,
     "status": "ok",
     "timestamp": 1645031801378,
     "user": {
      "displayName": "Amador Rodríguez Diéguez",
      "photoUrl": "https://lh3.googleusercontent.com/a/default-user=s64",
      "userId": "06500271424076672652"
     },
     "user_tz": -60
    },
    "id": "qJ1V7-t1HvQ_",
    "outputId": "fc72f14f-47e0-4216-c2ae-d2af7c34dadd"
   },
   "outputs": [
    {
     "name": "stdout",
     "output_type": "stream",
     "text": [
      "[2, 8, 6]\n"
     ]
    }
   ],
   "source": [
    "# Selecciona los valores que devuelve\n",
    "valores = [3,5,2,8,6,1]\n",
    "pares = list(filter(lambda x: x%2==0, valores))\n",
    "print(pares)"
   ]
  },
  {
   "cell_type": "markdown",
   "metadata": {
    "id": "4aTulpJ0G9ua"
   },
   "source": [
    "## Mapas"
   ]
  },
  {
   "cell_type": "code",
   "execution_count": 42,
   "metadata": {
    "colab": {
     "base_uri": "https://localhost:8080/"
    },
    "executionInfo": {
     "elapsed": 12,
     "status": "ok",
     "timestamp": 1645031801378,
     "user": {
      "displayName": "Amador Rodríguez Diéguez",
      "photoUrl": "https://lh3.googleusercontent.com/a/default-user=s64",
      "userId": "06500271424076672652"
     },
     "user_tz": -60
    },
    "id": "YLaJ_x9AHAR4",
    "outputId": "0ae0927a-6e7d-45b5-aa38-d2980ee9b651"
   },
   "outputs": [
    {
     "name": "stdout",
     "output_type": "stream",
     "text": [
      "[9, 25, 4, 64, 36, 1]\n"
     ]
    }
   ],
   "source": [
    "cuadrados = list(map(lambda x: x**2, valores))\n",
    "print(cuadrados)"
   ]
  }
 ],
 "metadata": {
  "colab": {
   "authorship_tag": "ABX9TyOd9zKU2FAw6bX5Hj5wnGIW",
   "collapsed_sections": [],
   "name": "01.01.Jupyter_y_Python_básico.ipynb",
   "provenance": []
  },
  "kernelspec": {
   "display_name": "Python 3",
   "language": "python",
   "name": "python3"
  },
  "language_info": {
   "codemirror_mode": {
    "name": "ipython",
    "version": 3
   },
   "file_extension": ".py",
   "mimetype": "text/x-python",
   "name": "python",
   "nbconvert_exporter": "python",
   "pygments_lexer": "ipython3",
   "version": "3.7.7"
  }
 },
 "nbformat": 4,
 "nbformat_minor": 1
}
